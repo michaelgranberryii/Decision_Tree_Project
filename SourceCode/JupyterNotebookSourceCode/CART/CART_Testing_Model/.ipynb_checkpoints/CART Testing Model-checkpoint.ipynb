{
 "cells": [
  {
   "cell_type": "markdown",
   "id": "2ed5aa1f",
   "metadata": {},
   "source": [
    "# CART Decision Tree"
   ]
  },
  {
   "cell_type": "code",
   "execution_count": 65,
   "id": "9534bf92",
   "metadata": {},
   "outputs": [],
   "source": [
    "from chefboost import Chefboost as chef\n",
    "import pandas as pd"
   ]
  },
  {
   "cell_type": "markdown",
   "id": "2279c78f",
   "metadata": {},
   "source": [
    "## Importing testing data set"
   ]
  },
  {
   "cell_type": "code",
   "execution_count": 68,
   "id": "e05a9476",
   "metadata": {},
   "outputs": [],
   "source": [
    "df = pd.read_csv(\"dataSetTest.csv\")\n",
    "df_test = df.iloc[:,1:9]\n",
    "# df_test"
   ]
  },
  {
   "cell_type": "markdown",
   "id": "2c3a73ad",
   "metadata": {},
   "source": [
    "## Loading decision tree model"
   ]
  },
  {
   "cell_type": "markdown",
   "id": "31b2821c",
   "metadata": {},
   "source": [
    "To ensure we have the same results as what's on our slide. We have to load the "
   ]
  },
  {
   "cell_type": "markdown",
   "id": "66d4bd96",
   "metadata": {},
   "source": [
    "## Testing CART decision tree rules with training data set"
   ]
  },
  {
   "cell_type": "code",
   "execution_count": 69,
   "id": "24730d6c",
   "metadata": {
    "scrolled": false
   },
   "outputs": [
    {
     "name": "stdout",
     "output_type": "stream",
     "text": [
      "CART\t Actual  \t \t Prediction\n",
      "\n",
      "0  \t In-person \tvs\t In-person\n",
      "1  \t In-person \tvs\t In-person\n",
      "2  \t Online \tvs\t Online\n",
      "3  \t In-person \tvs\t In-person\n",
      "4  \t Online \tvs\t Online\n",
      "5  \t In-person \tvs\t In-person\n",
      "6  \t Online \tvs\t Online\n",
      "7  \t Online \tvs\t In-person\n",
      "8  \t Online \tvs\t In-person\n",
      "9  \t In-person \tvs\t In-person\n",
      "10  \t In-person \tvs\t In-person\n",
      "11  \t In-person \tvs\t Online\n",
      "12  \t In-person \tvs\t In-person\n",
      "13  \t In-person \tvs\t In-person\n",
      "14  \t Online \tvs\t Online\n",
      "15  \t In-person \tvs\t Online\n",
      "16  \t In-person \tvs\t Online\n",
      "17  \t Online \tvs\t Online\n",
      "18  \t Online \tvs\t In-person\n",
      "19  \t In-person \tvs\t Online\n"
     ]
    }
   ],
   "source": [
    "pred = []\n",
    "act = []\n",
    "print(\"CART\\t Actual\", \" \\t\", \"\\t\", \"Prediction\\n\")\n",
    "for index, instance in df_test.iterrows():\n",
    "    prediction = chef.predict(model, instance)\n",
    "    actual = instance['Decision']\n",
    "    pred.insert(index, prediction)\n",
    "    act.insert(index, actual)\n",
    "    print(index, \" \\t\",actual, \"\\tvs\\t\", prediction)\n"
   ]
  }
 ],
 "metadata": {
  "kernelspec": {
   "display_name": "Python 3",
   "language": "python",
   "name": "python3"
  },
  "language_info": {
   "codemirror_mode": {
    "name": "ipython",
    "version": 3
   },
   "file_extension": ".py",
   "mimetype": "text/x-python",
   "name": "python",
   "nbconvert_exporter": "python",
   "pygments_lexer": "ipython3",
   "version": "3.8.8"
  }
 },
 "nbformat": 4,
 "nbformat_minor": 5
}
