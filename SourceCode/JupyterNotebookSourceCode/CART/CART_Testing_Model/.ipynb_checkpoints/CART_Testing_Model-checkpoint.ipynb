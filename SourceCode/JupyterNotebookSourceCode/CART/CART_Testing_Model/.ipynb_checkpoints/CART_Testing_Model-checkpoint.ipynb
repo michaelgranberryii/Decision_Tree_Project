{
 "cells": [
  {
   "cell_type": "markdown",
   "id": "2ed5aa1f",
   "metadata": {},
   "source": [
    "# CART Decision Tree - Testing Model"
   ]
  },
  {
   "cell_type": "code",
   "execution_count": 16,
   "id": "9534bf92",
   "metadata": {},
   "outputs": [],
   "source": [
    "from chefboost import Chefboost as chef\n",
    "import pandas as pd"
   ]
  },
  {
   "cell_type": "markdown",
   "id": "2279c78f",
   "metadata": {},
   "source": [
    "## Importing testing data set"
   ]
  },
  {
   "cell_type": "code",
   "execution_count": 17,
   "id": "e05a9476",
   "metadata": {},
   "outputs": [],
   "source": [
    "df = pd.read_csv(\"dataSetTest.csv\")\n",
    "df_test = df.iloc[:,1:9]\n",
    "# df_test"
   ]
  },
  {
   "cell_type": "markdown",
   "id": "36c0c0d3",
   "metadata": {},
   "source": [
    "## Loading decision tree model"
   ]
  },
  {
   "cell_type": "code",
   "execution_count": 18,
   "id": "6dc362e0",
   "metadata": {},
   "outputs": [],
   "source": [
    "cart_model = chef.load_model(\"CART_model.pkl\")"
   ]
  },
  {
   "cell_type": "markdown",
   "id": "66d4bd96",
   "metadata": {},
   "source": [
    "## Testing CART decision tree rules with training data set"
   ]
  },
  {
   "cell_type": "code",
   "execution_count": 19,
   "id": "24730d6c",
   "metadata": {
    "scrolled": false
   },
   "outputs": [
    {
     "name": "stdout",
     "output_type": "stream",
     "text": [
      "CART\t Actual  \t \t Prediction\n",
      "\n",
      "0  \t In-person \tvs\t In-person\n",
      "1  \t In-person \tvs\t In-person\n",
      "2  \t Online \tvs\t Online\n",
      "3  \t In-person \tvs\t In-person\n",
      "4  \t Online \tvs\t Online\n",
      "5  \t In-person \tvs\t In-person\n",
      "6  \t Online \tvs\t Online\n",
      "7  \t Online \tvs\t In-person\n",
      "8  \t Online \tvs\t In-person\n",
      "9  \t In-person \tvs\t In-person\n",
      "10  \t In-person \tvs\t In-person\n",
      "11  \t In-person \tvs\t In-person\n",
      "12  \t In-person \tvs\t In-person\n",
      "13  \t In-person \tvs\t In-person\n",
      "14  \t Online \tvs\t Online\n",
      "15  \t In-person \tvs\t In-person\n",
      "16  \t In-person \tvs\t Online\n",
      "17  \t Online \tvs\t In-person\n",
      "18  \t Online \tvs\t In-person\n",
      "19  \t In-person \tvs\t In-person\n"
     ]
    }
   ],
   "source": [
    "pred = []\n",
    "act = []\n",
    "print(\"CART\\t Actual\", \" \\t\", \"\\t\", \"Prediction\\n\")\n",
    "for index, instance in df_test.iterrows():\n",
    "    prediction = chef.predict(cart_model, instance)\n",
    "    actual = instance['Decision']\n",
    "    pred.insert(index, prediction)\n",
    "    act.insert(index, actual)\n",
    "    print(index, \" \\t\",actual, \"\\tvs\\t\", prediction)\n"
   ]
  }
 ],
 "metadata": {
  "kernelspec": {
   "display_name": "Python 3",
   "language": "python",
   "name": "python3"
  },
  "language_info": {
   "codemirror_mode": {
    "name": "ipython",
    "version": 3
   },
   "file_extension": ".py",
   "mimetype": "text/x-python",
   "name": "python",
   "nbconvert_exporter": "python",
   "pygments_lexer": "ipython3",
   "version": "3.8.8"
  }
 },
 "nbformat": 4,
 "nbformat_minor": 5
}
