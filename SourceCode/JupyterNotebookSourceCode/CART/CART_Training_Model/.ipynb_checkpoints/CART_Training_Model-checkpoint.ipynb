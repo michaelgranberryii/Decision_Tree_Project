{
 "cells": [
  {
   "cell_type": "markdown",
   "id": "2ed5aa1f",
   "metadata": {},
   "source": [
    "# CART Decision Tree - Creating Desicion Tree"
   ]
  },
  {
   "cell_type": "code",
   "execution_count": 12,
   "id": "9534bf92",
   "metadata": {},
   "outputs": [],
   "source": [
    "from chefboost import Chefboost as chef\n",
    "import pandas as pd"
   ]
  },
  {
   "cell_type": "markdown",
   "id": "c3a7acbb",
   "metadata": {},
   "source": [
    "## Importing training data set"
   ]
  },
  {
   "cell_type": "code",
   "execution_count": 13,
   "id": "692da493",
   "metadata": {},
   "outputs": [],
   "source": [
    "df = pd.read_csv(\"dataSetTrain.csv\")\n",
    "df_train = df.iloc[:,1:9]\n",
    "# df_train"
   ]
  },
  {
   "cell_type": "markdown",
   "id": "47cef524",
   "metadata": {},
   "source": [
    "## Making CART decision tree"
   ]
  },
  {
   "cell_type": "code",
   "execution_count": 14,
   "id": "0cabca78",
   "metadata": {},
   "outputs": [
    {
     "name": "stdout",
     "output_type": "stream",
     "text": [
      "CART\n",
      "[INFO]:  6 CPU cores will be allocated in parallel running\n",
      "CART  tree is going to be built...\n",
      "-------------------------\n",
      "finished in  3.019562005996704  seconds\n",
      "-------------------------\n",
      "Evaluate  train set\n",
      "-------------------------\n",
      "Accuracy:  83.33333333333333 % on  30  instances\n",
      "Labels:  ['In-person' 'Online']\n",
      "Confusion matrix:  [[17, 5], [0, 8]]\n",
      "Precision:  77.2727 %, Recall:  100.0 %, F1:  87.1795 %\n"
     ]
    }
   ],
   "source": [
    "algo= 'CART'\n",
    "print(algo)\n",
    "config = {'algorithm': algo}\n",
    "model = chef.fit(df_train, config = config, target_label = 'Decision')"
   ]
  },
  {
   "cell_type": "markdown",
   "id": "97d16d55",
   "metadata": {},
   "source": [
    "Decision tree rules are saved in CART_Training_Model/outputs/rules"
   ]
  }
 ],
 "metadata": {
  "kernelspec": {
   "display_name": "Python 3",
   "language": "python",
   "name": "python3"
  },
  "language_info": {
   "codemirror_mode": {
    "name": "ipython",
    "version": 3
   },
   "file_extension": ".py",
   "mimetype": "text/x-python",
   "name": "python",
   "nbconvert_exporter": "python",
   "pygments_lexer": "ipython3",
   "version": "3.8.8"
  }
 },
 "nbformat": 4,
 "nbformat_minor": 5
}
