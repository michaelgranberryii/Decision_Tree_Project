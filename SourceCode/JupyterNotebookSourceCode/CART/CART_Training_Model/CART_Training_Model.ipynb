{
 "cells": [
  {
   "cell_type": "markdown",
   "id": "2ed5aa1f",
   "metadata": {},
   "source": [
    "# CART Training Model \n",
    "- Each time this code is executed, new decision tree rules are generated and saved in CART_Training_Model/outputs/rules.\n",
    "- To generate the results we used in our project, run the CART_Testing_Model jupyper notebook.\n",
    "    - CART_Testing_Model jupyper notebook loads the model we used in our project."
   ]
  },
  {
   "cell_type": "code",
   "execution_count": 19,
   "id": "9534bf92",
   "metadata": {},
   "outputs": [],
   "source": [
    "from chefboost import Chefboost as chef\n",
    "import pandas as pd"
   ]
  },
  {
   "cell_type": "markdown",
   "id": "c3a7acbb",
   "metadata": {},
   "source": [
    "## Importing training data set"
   ]
  },
  {
   "cell_type": "code",
   "execution_count": 24,
   "id": "692da493",
   "metadata": {},
   "outputs": [],
   "source": [
    "df = pd.read_csv(\"dataSetTrain.csv\")\n",
    "df_train = df.iloc[:,1:9]\n",
    "# df_train"
   ]
  },
  {
   "cell_type": "markdown",
   "id": "47cef524",
   "metadata": {},
   "source": [
    "## Making CART decision tree\n",
    "- Decision tree rules are saved in  CART_Training_Model/outputs/rules/rules.py"
   ]
  },
  {
   "cell_type": "code",
   "execution_count": 21,
   "id": "0cabca78",
   "metadata": {
    "scrolled": false
   },
   "outputs": [
    {
     "name": "stdout",
     "output_type": "stream",
     "text": [
      "CART\n",
      "[INFO]:  6 CPU cores will be allocated in parallel running\n",
      "CART  tree is going to be built...\n",
      "-------------------------\n",
      "finished in  2.6545569896698  seconds\n",
      "-------------------------\n",
      "Evaluate  train set\n",
      "-------------------------\n",
      "Accuracy:  83.33333333333333 % on  30  instances\n",
      "Labels:  ['In-person' 'Online']\n",
      "Confusion matrix:  [[15, 3], [2, 10]]\n",
      "Precision:  83.3333 %, Recall:  88.2353 %, F1:  85.7143 %\n"
     ]
    }
   ],
   "source": [
    "algo= 'CART'\n",
    "print(algo)\n",
    "config = {'algorithm': algo}\n",
    "model = chef.fit(df_train, config = config, target_label = 'Decision')"
   ]
  },
  {
   "cell_type": "markdown",
   "id": "a7a6691a",
   "metadata": {},
   "source": [
    "## Example of saving generated model"
   ]
  },
  {
   "cell_type": "code",
   "execution_count": 22,
   "id": "08349cab",
   "metadata": {},
   "outputs": [],
   "source": [
    "chef.save_model(model, \"example_model.pkl\")"
   ]
  }
 ],
 "metadata": {
  "kernelspec": {
   "display_name": "Python 3",
   "language": "python",
   "name": "python3"
  },
  "language_info": {
   "codemirror_mode": {
    "name": "ipython",
    "version": 3
   },
   "file_extension": ".py",
   "mimetype": "text/x-python",
   "name": "python",
   "nbconvert_exporter": "python",
   "pygments_lexer": "ipython3",
   "version": "3.8.8"
  }
 },
 "nbformat": 4,
 "nbformat_minor": 5
}
