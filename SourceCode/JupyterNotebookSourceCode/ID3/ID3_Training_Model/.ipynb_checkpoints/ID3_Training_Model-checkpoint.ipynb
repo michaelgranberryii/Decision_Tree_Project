{
 "cells": [
  {
   "cell_type": "markdown",
   "id": "968bbc34",
   "metadata": {},
   "source": [
    "# ID3 Decision Tree"
   ]
  },
  {
   "cell_type": "code",
   "execution_count": 89,
   "id": "9534bf92",
   "metadata": {},
   "outputs": [],
   "source": [
    "from chefboost import Chefboost as chef\n",
    "import pandas as pd"
   ]
  },
  {
   "cell_type": "markdown",
   "id": "a195d2de",
   "metadata": {},
   "source": [
    "## Importing training data set"
   ]
  },
  {
   "cell_type": "code",
   "execution_count": 90,
   "id": "692da493",
   "metadata": {},
   "outputs": [],
   "source": [
    "df = pd.read_csv(\"dataSetTrain.csv\")\n",
    "df_train = df.iloc[:,1:9]\n",
    "# df_train"
   ]
  },
  {
   "cell_type": "markdown",
   "id": "0e01f7f5",
   "metadata": {},
   "source": [
    "## Making ID3 decision tree"
   ]
  },
  {
   "cell_type": "code",
   "execution_count": 91,
   "id": "0cabca78",
   "metadata": {
    "scrolled": true
   },
   "outputs": [
    {
     "name": "stdout",
     "output_type": "stream",
     "text": [
      "ID3\n",
      "[INFO]:  6 CPU cores will be allocated in parallel running\n",
      "ID3  tree is going to be built...\n",
      "-------------------------\n",
      "finished in  2.8269202709198  seconds\n",
      "-------------------------\n",
      "Evaluate  train set\n",
      "-------------------------\n",
      "Accuracy:  83.33333333333333 % on  30  instances\n",
      "Labels:  ['In-person' 'Online']\n",
      "Confusion matrix:  [[15, 3], [2, 10]]\n",
      "Precision:  83.3333 %, Recall:  88.2353 %, F1:  85.7143 %\n"
     ]
    }
   ],
   "source": [
    "algo= 'ID3'\n",
    "print(algo)\n",
    "config = {'algorithm': algo}\n",
    "model = chef.fit(df_train, config = config, target_label = 'Decision')"
   ]
  },
  {
   "cell_type": "markdown",
   "id": "2aa03175",
   "metadata": {},
   "source": [
    "## Importing testing data set"
   ]
  },
  {
   "cell_type": "code",
   "execution_count": 92,
   "id": "1313b6d1",
   "metadata": {},
   "outputs": [],
   "source": [
    "chef.save_model(model, \"ID3_model.pkl\")"
   ]
  },
  {
   "cell_type": "code",
   "execution_count": 93,
   "id": "e05a9476",
   "metadata": {},
   "outputs": [],
   "source": [
    "df = pd.read_csv(\"dataSetTest.csv\")\n",
    "df_test = df.iloc[:,1:9]\n",
    "# df_test"
   ]
  },
  {
   "cell_type": "markdown",
   "id": "4562ae8b",
   "metadata": {},
   "source": [
    "### Loading decision tree rules we used for our results"
   ]
  },
  {
   "cell_type": "code",
   "execution_count": 94,
   "id": "11380780",
   "metadata": {},
   "outputs": [
    {
     "ename": "FileNotFoundError",
     "evalue": "[Errno 2] No such file or directory: 'outputs/rules/ID3_model.pkl'",
     "output_type": "error",
     "traceback": [
      "\u001b[0;31m---------------------------------------------------------------------------\u001b[0m",
      "\u001b[0;31mFileNotFoundError\u001b[0m                         Traceback (most recent call last)",
      "\u001b[0;32m<ipython-input-94-34b9da050f48>\u001b[0m in \u001b[0;36m<module>\u001b[0;34m\u001b[0m\n\u001b[0;32m----> 1\u001b[0;31m \u001b[0mloaded_model\u001b[0m \u001b[0;34m=\u001b[0m \u001b[0mchef\u001b[0m\u001b[0;34m.\u001b[0m\u001b[0mload_model\u001b[0m\u001b[0;34m(\u001b[0m\u001b[0;34m\"ID3_model.pkl\"\u001b[0m\u001b[0;34m)\u001b[0m\u001b[0;34m\u001b[0m\u001b[0;34m\u001b[0m\u001b[0m\n\u001b[0m",
      "\u001b[0;32m~/opt/anaconda3/lib/python3.8/site-packages/chefboost/Chefboost.py\u001b[0m in \u001b[0;36mload_model\u001b[0;34m(file_name)\u001b[0m\n\u001b[1;32m    380\u001b[0m \t\"\"\"\n\u001b[1;32m    381\u001b[0m \u001b[0;34m\u001b[0m\u001b[0m\n\u001b[0;32m--> 382\u001b[0;31m         \u001b[0mf\u001b[0m \u001b[0;34m=\u001b[0m \u001b[0mopen\u001b[0m\u001b[0;34m(\u001b[0m\u001b[0;34m'outputs/rules/'\u001b[0m\u001b[0;34m+\u001b[0m\u001b[0mfile_name\u001b[0m\u001b[0;34m,\u001b[0m \u001b[0;34m'rb'\u001b[0m\u001b[0;34m)\u001b[0m\u001b[0;34m\u001b[0m\u001b[0;34m\u001b[0m\u001b[0m\n\u001b[0m\u001b[1;32m    383\u001b[0m         \u001b[0mmodel\u001b[0m \u001b[0;34m=\u001b[0m \u001b[0mpickle\u001b[0m\u001b[0;34m.\u001b[0m\u001b[0mload\u001b[0m\u001b[0;34m(\u001b[0m\u001b[0mf\u001b[0m\u001b[0;34m)\u001b[0m\u001b[0;34m\u001b[0m\u001b[0;34m\u001b[0m\u001b[0m\n\u001b[1;32m    384\u001b[0m \u001b[0;34m\u001b[0m\u001b[0m\n",
      "\u001b[0;31mFileNotFoundError\u001b[0m: [Errno 2] No such file or directory: 'outputs/rules/ID3_model.pkl'"
     ]
    }
   ],
   "source": [
    "loaded_model = chef.load_model(\"ID3_model.pkl\")"
   ]
  },
  {
   "cell_type": "markdown",
   "id": "ab8e8a5e",
   "metadata": {},
   "source": [
    "## Testing ID3 decision tree rules with training data set"
   ]
  },
  {
   "cell_type": "code",
   "execution_count": null,
   "id": "24730d6c",
   "metadata": {
    "scrolled": true
   },
   "outputs": [],
   "source": [
    "pred = []\n",
    "act = []\n",
    "print(\"ID3\\t Actual\", \" \\t\", \"\\t\", \"Prediction\\n\")\n",
    "for index, instance in df_test.iterrows():\n",
    "    prediction = chef.predict(loaded_model, instance)\n",
    "    actual = instance['Decision']\n",
    "    pred.insert(index, prediction)\n",
    "    act.insert(index, actual)\n",
    "    print(index, \" \\t\",actual, \"\\tvs\\t\", prediction)\n"
   ]
  }
 ],
 "metadata": {
  "kernelspec": {
   "display_name": "Python 3",
   "language": "python",
   "name": "python3"
  },
  "language_info": {
   "codemirror_mode": {
    "name": "ipython",
    "version": 3
   },
   "file_extension": ".py",
   "mimetype": "text/x-python",
   "name": "python",
   "nbconvert_exporter": "python",
   "pygments_lexer": "ipython3",
   "version": "3.8.8"
  }
 },
 "nbformat": 4,
 "nbformat_minor": 5
}
