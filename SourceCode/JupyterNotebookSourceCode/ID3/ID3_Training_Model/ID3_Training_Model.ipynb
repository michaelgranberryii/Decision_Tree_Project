{
 "cells": [
  {
   "cell_type": "markdown",
   "id": "968bbc34",
   "metadata": {},
   "source": [
    "# ID3 Training Model \n",
    "- Each time this code is executed, new decision tree rules are generated and saved in ID3_Training_Model/outputs/rules.\n",
    "- To generate the results we used in our project, run the ID3_Testing_Model jupyper notebook.\n",
    "    - ID3_Testing_Model jupyper notebook loads the model we used in our project."
   ]
  },
  {
   "cell_type": "code",
   "execution_count": 5,
   "id": "9534bf92",
   "metadata": {},
   "outputs": [],
   "source": [
    "from chefboost import Chefboost as chef\n",
    "import pandas as pd"
   ]
  },
  {
   "cell_type": "markdown",
   "id": "a195d2de",
   "metadata": {},
   "source": [
    "## Importing training data set"
   ]
  },
  {
   "cell_type": "code",
   "execution_count": 6,
   "id": "692da493",
   "metadata": {},
   "outputs": [],
   "source": [
    "df = pd.read_csv(\"dataSetTrain.csv\")\n",
    "df_train = df.iloc[:,1:9]\n",
    "# df_train"
   ]
  },
  {
   "cell_type": "markdown",
   "id": "0e01f7f5",
   "metadata": {},
   "source": [
    "## Making ID3 decision tree\n",
    "- Decision tree rules are saved in ID3_Training_Model/outputs/rules/rules.py"
   ]
  },
  {
   "cell_type": "code",
   "execution_count": 7,
   "id": "0cabca78",
   "metadata": {
    "scrolled": true
   },
   "outputs": [
    {
     "name": "stdout",
     "output_type": "stream",
     "text": [
      "ID3\n",
      "[INFO]:  6 CPU cores will be allocated in parallel running\n",
      "ID3  tree is going to be built...\n",
      "-------------------------\n",
      "finished in  3.090009927749634  seconds\n",
      "-------------------------\n",
      "Evaluate  train set\n",
      "-------------------------\n",
      "Accuracy:  83.33333333333333 % on  30  instances\n",
      "Labels:  ['In-person' 'Online']\n",
      "Confusion matrix:  [[17, 5], [0, 8]]\n",
      "Precision:  77.2727 %, Recall:  100.0 %, F1:  87.1795 %\n"
     ]
    }
   ],
   "source": [
    "algo= 'ID3'\n",
    "print(algo)\n",
    "config = {'algorithm': algo}\n",
    "model = chef.fit(df_train, config = config, target_label = 'Decision')"
   ]
  },
  {
   "cell_type": "markdown",
   "id": "2aa03175",
   "metadata": {},
   "source": [
    "## Example of saving generated model\n",
    "- ID3_Training_Model/outputs/rules/example_model.pkl"
   ]
  },
  {
   "cell_type": "code",
   "execution_count": 10,
   "id": "1313b6d1",
   "metadata": {},
   "outputs": [],
   "source": [
    "chef.save_model(model, \"example_model.pkl\")"
   ]
  }
 ],
 "metadata": {
  "kernelspec": {
   "display_name": "Python 3",
   "language": "python",
   "name": "python3"
  },
  "language_info": {
   "codemirror_mode": {
    "name": "ipython",
    "version": 3
   },
   "file_extension": ".py",
   "mimetype": "text/x-python",
   "name": "python",
   "nbconvert_exporter": "python",
   "pygments_lexer": "ipython3",
   "version": "3.8.8"
  }
 },
 "nbformat": 4,
 "nbformat_minor": 5
}
