{
 "cells": [
  {
   "cell_type": "markdown",
   "id": "968bbc34",
   "metadata": {},
   "source": [
    "# ID3 Testing Model\n",
    "- This notebook loads the model, \"ID3_model_project2B.pkl\", and uses our testing data set to make predictions."
   ]
  },
  {
   "cell_type": "code",
   "execution_count": 1,
   "id": "9534bf92",
   "metadata": {},
   "outputs": [],
   "source": [
    "from chefboost import Chefboost as chef\n",
    "import pandas as pd"
   ]
  },
  {
   "cell_type": "markdown",
   "id": "2aa03175",
   "metadata": {},
   "source": [
    "## Importing testing data set"
   ]
  },
  {
   "cell_type": "code",
   "execution_count": 2,
   "id": "e05a9476",
   "metadata": {},
   "outputs": [],
   "source": [
    "df = pd.read_csv(\"dataSetTest.csv\")\n",
    "df_test = df.iloc[:,1:9]\n",
    "# df_test"
   ]
  },
  {
   "cell_type": "markdown",
   "id": "4562ae8b",
   "metadata": {},
   "source": [
    "### Loading decision tree rules we used for our results"
   ]
  },
  {
   "cell_type": "code",
   "execution_count": 3,
   "id": "11380780",
   "metadata": {},
   "outputs": [],
   "source": [
    "loaded_model = chef.load_model(\"ID3_model_project2B.pkl\")"
   ]
  },
  {
   "cell_type": "markdown",
   "id": "ab8e8a5e",
   "metadata": {},
   "source": [
    "## Testing ID3 decision tree rules with training data set"
   ]
  },
  {
   "cell_type": "code",
   "execution_count": 4,
   "id": "24730d6c",
   "metadata": {
    "scrolled": false
   },
   "outputs": [
    {
     "name": "stdout",
     "output_type": "stream",
     "text": [
      "ID3\t Actual  \t \t Prediction\n",
      "\n",
      "0  \t In-person \tvs\t In-person\n",
      "1  \t In-person \tvs\t In-person\n",
      "2  \t Online \tvs\t Online\n",
      "3  \t In-person \tvs\t In-person\n",
      "4  \t Online \tvs\t Online\n",
      "5  \t In-person \tvs\t In-person\n",
      "6  \t Online \tvs\t Online\n",
      "7  \t Online \tvs\t In-person\n",
      "8  \t Online \tvs\t In-person\n",
      "9  \t In-person \tvs\t In-person\n",
      "10  \t In-person \tvs\t In-person\n",
      "11  \t In-person \tvs\t Online\n",
      "12  \t In-person \tvs\t In-person\n",
      "13  \t In-person \tvs\t In-person\n",
      "14  \t Online \tvs\t Online\n",
      "15  \t In-person \tvs\t Online\n",
      "16  \t In-person \tvs\t Online\n",
      "17  \t Online \tvs\t Online\n",
      "18  \t Online \tvs\t In-person\n",
      "19  \t In-person \tvs\t In-person\n"
     ]
    }
   ],
   "source": [
    "pred = []\n",
    "act = []\n",
    "print(\"ID3\\t Actual\", \" \\t\", \"\\t\", \"Prediction\\n\")\n",
    "for index, instance in df_test.iterrows():\n",
    "    prediction = chef.predict(loaded_model, instance)\n",
    "    actual = instance['Decision']\n",
    "    pred.insert(index, prediction)\n",
    "    act.insert(index, actual)\n",
    "    print(index, \" \\t\",actual, \"\\tvs\\t\", prediction)\n"
   ]
  }
 ],
 "metadata": {
  "kernelspec": {
   "display_name": "Python 3",
   "language": "python",
   "name": "python3"
  },
  "language_info": {
   "codemirror_mode": {
    "name": "ipython",
    "version": 3
   },
   "file_extension": ".py",
   "mimetype": "text/x-python",
   "name": "python",
   "nbconvert_exporter": "python",
   "pygments_lexer": "ipython3",
   "version": "3.8.8"
  }
 },
 "nbformat": 4,
 "nbformat_minor": 5
}
